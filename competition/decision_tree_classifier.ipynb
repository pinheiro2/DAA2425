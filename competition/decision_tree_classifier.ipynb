{
 "cells": [
  {
   "cell_type": "code",
   "execution_count": 2,
   "metadata": {},
   "outputs": [],
   "source": [
    "from sklearn.model_selection import train_test_split\n",
    "from sklearn.tree import DecisionTreeClassifier\n",
    "from sklearn.tree import DecisionTreeRegressor\n",
    "from sklearn.metrics import confusion_matrix\n",
    "from sklearn.metrics import recall_score\n",
    "from sklearn.metrics import accuracy_score\n",
    "from sklearn.metrics import precision_score\n",
    "from sklearn.metrics import roc_auc_score\n",
    "from sklearn.metrics import roc_curve\n",
    "from sklearn.metrics import f1_score\n",
    "from sklearn.metrics import fbeta_score\n",
    "from sklearn.metrics import mean_absolute_error\n",
    "from sklearn.metrics import mean_squared_error\n",
    "from sklearn.metrics import root_mean_squared_error\n",
    "import matplotlib.pyplot as plt\n",
    "import pandas as pd\n",
    "import numpy as np\n",
    "import seaborn as sns\n",
    "from sklearn import preprocessing\n",
    "import sklearn as skl\n",
    "\n",
    "from sklearn.model_selection import cross_val_score"
   ]
  },
  {
   "cell_type": "code",
   "execution_count": 3,
   "metadata": {},
   "outputs": [],
   "source": [
    "df = pd.read_csv(\"datasets/train_radiomics_hipocamp.csv\")"
   ]
  },
  {
   "cell_type": "code",
   "execution_count": 4,
   "metadata": {},
   "outputs": [
    {
     "data": {
      "text/plain": [
       "ID                                   object\n",
       "Image                                object\n",
       "Mask                                 object\n",
       "diagnostics_Versions_PyRadiomics     object\n",
       "diagnostics_Versions_Numpy           object\n",
       "                                     ...   \n",
       "lbp-3D-k_ngtdm_Contrast             float64\n",
       "lbp-3D-k_ngtdm_Strength             float64\n",
       "Sex                                   int64\n",
       "Age                                 float64\n",
       "Transition                           object\n",
       "Length: 2181, dtype: object"
      ]
     },
     "execution_count": 4,
     "metadata": {},
     "output_type": "execute_result"
    }
   ],
   "source": [
    "df.columns\n",
    "df.dtypes"
   ]
  },
  {
   "cell_type": "code",
   "execution_count": 5,
   "metadata": {},
   "outputs": [
    {
     "data": {
      "text/plain": [
       "0        CN-CN\n",
       "1        CN-CN\n",
       "2        AD-AD\n",
       "3       CN-MCI\n",
       "4        CN-CN\n",
       "        ...   \n",
       "300      CN-CN\n",
       "301      CN-CN\n",
       "302     MCI-AD\n",
       "303    MCI-MCI\n",
       "304      CN-CN\n",
       "Name: Transition, Length: 305, dtype: object"
      ]
     },
     "execution_count": 5,
     "metadata": {},
     "output_type": "execute_result"
    }
   ],
   "source": [
    "df['Transition']"
   ]
  },
  {
   "cell_type": "code",
   "execution_count": 6,
   "metadata": {},
   "outputs": [],
   "source": [
    "X = df.drop(['Transition'], axis=1)     \n",
    "y = df['Transition'].to_frame()         "
   ]
  },
  {
   "cell_type": "code",
   "execution_count": 7,
   "metadata": {},
   "outputs": [],
   "source": [
    "df_numerico = X.select_dtypes(include=[np.number])"
   ]
  },
  {
   "cell_type": "code",
   "execution_count": 13,
   "metadata": {},
   "outputs": [
    {
     "name": "stdout",
     "output_type": "stream",
     "text": [
      "6\n"
     ]
    }
   ],
   "source": [
    "\n",
    "clf = DecisionTreeClassifier(max_depth=6, random_state=2021)\n",
    "clf.fit(df_numerico, y)\n",
    "print(clf.get_depth())"
   ]
  },
  {
   "cell_type": "code",
   "execution_count": 9,
   "metadata": {},
   "outputs": [],
   "source": [
    "X_test = pd.read_csv(\"datasets/test_radiomics_hipocamp.csv\")\n",
    "X_test = X_test.select_dtypes(include=[np.number])"
   ]
  },
  {
   "cell_type": "code",
   "execution_count": 14,
   "metadata": {},
   "outputs": [],
   "source": [
    "predictions = clf.predict(X_test)"
   ]
  },
  {
   "cell_type": "code",
   "execution_count": 15,
   "metadata": {},
   "outputs": [
    {
     "data": {
      "text/plain": [
       "array(['MCI-AD', 'MCI-MCI', 'CN-MCI', 'CN-CN', 'MCI-MCI', 'MCI-AD',\n",
       "       'AD-AD', 'CN-CN', 'AD-AD', 'MCI-MCI', 'CN-CN', 'CN-MCI', 'CN-CN',\n",
       "       'CN-CN', 'CN-CN', 'MCI-AD', 'CN-CN', 'MCI-AD', 'MCI-AD', 'MCI-AD',\n",
       "       'MCI-AD', 'MCI-AD', 'CN-CN', 'MCI-MCI', 'MCI-MCI', 'CN-MCI',\n",
       "       'AD-AD', 'CN-CN', 'CN-CN', 'CN-CN', 'CN-CN', 'MCI-MCI', 'CN-CN',\n",
       "       'MCI-MCI', 'MCI-AD', 'MCI-AD', 'MCI-MCI', 'MCI-MCI', 'CN-CN',\n",
       "       'CN-CN', 'MCI-MCI', 'CN-CN', 'AD-AD', 'CN-CN', 'CN-CN', 'MCI-AD',\n",
       "       'MCI-MCI', 'MCI-MCI', 'AD-AD', 'MCI-AD', 'MCI-AD', 'MCI-AD',\n",
       "       'MCI-MCI', 'MCI-MCI', 'CN-CN', 'MCI-MCI', 'CN-CN', 'MCI-MCI',\n",
       "       'MCI-AD', 'MCI-AD', 'CN-CN', 'MCI-MCI', 'CN-CN', 'MCI-AD', 'CN-CN',\n",
       "       'CN-CN', 'MCI-MCI', 'CN-CN', 'MCI-AD', 'CN-CN', 'MCI-AD', 'AD-AD',\n",
       "       'CN-CN', 'MCI-AD', 'AD-AD', 'MCI-MCI', 'MCI-AD', 'AD-AD', 'CN-CN',\n",
       "       'MCI-MCI', 'AD-AD', 'MCI-AD', 'AD-AD', 'CN-CN', 'AD-AD', 'MCI-MCI',\n",
       "       'AD-AD', 'MCI-AD', 'MCI-MCI', 'CN-CN', 'MCI-MCI', 'MCI-MCI',\n",
       "       'MCI-MCI', 'CN-CN', 'MCI-MCI', 'MCI-AD', 'AD-AD', 'MCI-MCI',\n",
       "       'CN-CN', 'AD-AD'], dtype=object)"
      ]
     },
     "execution_count": 15,
     "metadata": {},
     "output_type": "execute_result"
    }
   ],
   "source": [
    "predictions"
   ]
  },
  {
   "cell_type": "code",
   "execution_count": 16,
   "metadata": {},
   "outputs": [],
   "source": [
    "data = pd.DataFrame({\n",
    "    'RowId': np.arange(1, len(predictions) + 1), \n",
    "    'Result': predictions\n",
    "})\n",
    "\n",
    "data.to_csv('decision_tree_predicts_maxdepth6.csv', index=False)"
   ]
  }
 ],
 "metadata": {
  "kernelspec": {
   "display_name": "myenv",
   "language": "python",
   "name": "python3"
  },
  "language_info": {
   "codemirror_mode": {
    "name": "ipython",
    "version": 3
   },
   "file_extension": ".py",
   "mimetype": "text/x-python",
   "name": "python",
   "nbconvert_exporter": "python",
   "pygments_lexer": "ipython3",
   "version": "3.12.4"
  }
 },
 "nbformat": 4,
 "nbformat_minor": 2
}
