{
 "cells": [
  {
   "cell_type": "code",
   "execution_count": 1,
   "metadata": {},
   "outputs": [],
   "source": [
    "from sklearn.model_selection import train_test_split\n",
    "from sklearn.tree import DecisionTreeClassifier\n",
    "from sklearn.tree import DecisionTreeRegressor\n",
    "from sklearn.metrics import confusion_matrix\n",
    "from sklearn.metrics import recall_score\n",
    "from sklearn.metrics import accuracy_score\n",
    "from sklearn.metrics import precision_score\n",
    "from sklearn.metrics import roc_auc_score\n",
    "from sklearn.metrics import roc_curve\n",
    "from sklearn.metrics import f1_score\n",
    "from sklearn.metrics import fbeta_score\n",
    "from sklearn.metrics import mean_absolute_error\n",
    "from sklearn.metrics import mean_squared_error\n",
    "from sklearn.metrics import root_mean_squared_error\n",
    "import matplotlib.pyplot as plt\n",
    "import pandas as pd\n",
    "import numpy as np\n",
    "import seaborn as sns\n",
    "from sklearn import preprocessing\n",
    "import sklearn as skl\n",
    "\n",
    "from sklearn.model_selection import cross_val_score"
   ]
  },
  {
   "cell_type": "code",
   "execution_count": 2,
   "metadata": {},
   "outputs": [],
   "source": [
    "df = pd.read_csv(\"../datasets/train_radiomics_hipocamp.csv\")"
   ]
  },
  {
   "cell_type": "code",
   "execution_count": 3,
   "metadata": {},
   "outputs": [
    {
     "data": {
      "text/plain": [
       "ID                                   object\n",
       "Image                                object\n",
       "Mask                                 object\n",
       "diagnostics_Versions_PyRadiomics     object\n",
       "diagnostics_Versions_Numpy           object\n",
       "                                     ...   \n",
       "lbp-3D-k_ngtdm_Contrast             float64\n",
       "lbp-3D-k_ngtdm_Strength             float64\n",
       "Sex                                   int64\n",
       "Age                                 float64\n",
       "Transition                           object\n",
       "Length: 2181, dtype: object"
      ]
     },
     "execution_count": 3,
     "metadata": {},
     "output_type": "execute_result"
    }
   ],
   "source": [
    "df.columns\n",
    "df.dtypes"
   ]
  },
  {
   "cell_type": "code",
   "execution_count": 4,
   "metadata": {},
   "outputs": [
    {
     "data": {
      "text/plain": [
       "0        CN-CN\n",
       "1        CN-CN\n",
       "2        AD-AD\n",
       "3       CN-MCI\n",
       "4        CN-CN\n",
       "        ...   \n",
       "300      CN-CN\n",
       "301      CN-CN\n",
       "302     MCI-AD\n",
       "303    MCI-MCI\n",
       "304      CN-CN\n",
       "Name: Transition, Length: 305, dtype: object"
      ]
     },
     "execution_count": 4,
     "metadata": {},
     "output_type": "execute_result"
    }
   ],
   "source": [
    "df['Transition']"
   ]
  },
  {
   "cell_type": "code",
   "execution_count": 3,
   "metadata": {},
   "outputs": [],
   "source": [
    "X = df.drop(['Transition'], axis=1)     \n",
    "y = df['Transition'].to_frame()         "
   ]
  },
  {
   "cell_type": "code",
   "execution_count": 4,
   "metadata": {},
   "outputs": [],
   "source": [
    "df_numerico = X.select_dtypes(include=[np.number])"
   ]
  },
  {
   "cell_type": "code",
   "execution_count": 13,
   "metadata": {},
   "outputs": [
    {
     "name": "stdout",
     "output_type": "stream",
     "text": [
      "Confusion Matrix:\n",
      "[[6 2 0 2 5]\n",
      " [3 9 0 4 6]\n",
      " [0 0 0 0 2]\n",
      " [2 0 1 3 6]\n",
      " [1 4 1 1 3]]\n",
      "F1-Score: 0.37\n",
      "1.0\n",
      "Confusion Matrix:\n",
      "[[ 5  2  0  5  1]\n",
      " [ 1 10  0  1  1]\n",
      " [ 0  1  0  1  1]\n",
      " [ 5  2  0  2  1]\n",
      " [ 5  8  1  6  2]]\n",
      "F1-Score: 0.27\n",
      "1.0\n",
      "Confusion Matrix:\n",
      "[[ 3  4  0  4  0]\n",
      " [ 1 10  1  2  4]\n",
      " [ 0  0  0  1  1]\n",
      " [ 3  3  0  4  4]\n",
      " [ 3  4  1  1  7]]\n",
      "F1-Score: 0.39\n",
      "1.0\n",
      "Confusion Matrix:\n",
      "[[ 4  1  0  6  1]\n",
      " [ 2 13  0  2  5]\n",
      " [ 0  2  0  0  0]\n",
      " [ 6  4  0  4  4]\n",
      " [ 2  2  0  2  1]]\n",
      "F1-Score: 0.36\n",
      "1.0\n",
      "Confusion Matrix:\n",
      "[[5 0 0 1 3]\n",
      " [3 9 2 3 4]\n",
      " [0 1 0 0 0]\n",
      " [5 1 0 5 3]\n",
      " [2 2 1 4 7]]\n",
      "F1-Score: 0.44\n",
      "1.0\n",
      "RESULT: 1.00 accuracy with a std deviation of 0.00\n",
      "F1-Score: 0.37 with a std deviation of 0.06\n"
     ]
    }
   ],
   "source": [
    "from sklearn.model_selection import KFold\n",
    "clf = DecisionTreeClassifier(criterion='gini', max_depth=10, random_state=2021)\n",
    "scores = []\n",
    "f1_scores = []\n",
    "kf = KFold(n_splits=5)\n",
    "\n",
    "for train, test in kf.split(df_numerico):\n",
    "    clf.fit(df_numerico.loc[train,:], y.loc[train,:])\n",
    "    score = clf.score(df_numerico.loc[train,:], y.loc[train,:])\n",
    "    scores.append(score)\n",
    "    y_predicted = clf.predict(df_numerico.loc[test,:])\n",
    "    print(\"Confusion Matrix:\")\n",
    "    print(confusion_matrix(y.loc[test,:], y_predicted))\n",
    "    f1 = f1_score(y.loc[test], y_predicted, average='weighted')  # Use 'weighted' para classes desbalanceadas\n",
    "    f1_scores.append(f1)\n",
    "    print(f\"F1-Score: {f1:.2f}\")\n",
    "    print(score)\n",
    "\n",
    "print(\"RESULT: %0.2f accuracy with a std deviation of %0.2f\" % (np.mean(scores), np.std(scores)))\n",
    "print(\"F1-Score: %0.2f with a std deviation of %0.2f\" % (np.mean(f1_scores), np.std(f1_scores)))"
   ]
  },
  {
   "cell_type": "code",
   "execution_count": 7,
   "metadata": {},
   "outputs": [
    {
     "name": "stdout",
     "output_type": "stream",
     "text": [
      "10\n"
     ]
    }
   ],
   "source": [
    "\n",
    "clf = DecisionTreeClassifier(random_state=2021)\n",
    "clf.fit(df_numerico, y)\n",
    "print(clf.get_depth())"
   ]
  },
  {
   "cell_type": "code",
   "execution_count": 8,
   "metadata": {},
   "outputs": [],
   "source": [
    "X_test = pd.read_csv(\"../datasets/test_radiomics_hipocamp.csv\")\n",
    "X_test = X_test.select_dtypes(include=[np.number])"
   ]
  },
  {
   "cell_type": "code",
   "execution_count": 9,
   "metadata": {},
   "outputs": [],
   "source": [
    "predictions = clf.predict(X_test)"
   ]
  },
  {
   "cell_type": "code",
   "execution_count": 10,
   "metadata": {},
   "outputs": [
    {
     "data": {
      "text/plain": [
       "array(['MCI-AD', 'MCI-MCI', 'CN-CN', 'CN-CN', 'MCI-MCI', 'MCI-AD',\n",
       "       'AD-AD', 'CN-CN', 'AD-AD', 'MCI-MCI', 'CN-CN', 'CN-CN', 'CN-CN',\n",
       "       'CN-CN', 'CN-CN', 'MCI-AD', 'CN-CN', 'MCI-AD', 'MCI-AD', 'MCI-AD',\n",
       "       'MCI-AD', 'MCI-MCI', 'CN-CN', 'MCI-MCI', 'MCI-MCI', 'CN-CN',\n",
       "       'AD-AD', 'CN-CN', 'CN-CN', 'CN-CN', 'CN-MCI', 'MCI-MCI', 'CN-CN',\n",
       "       'MCI-MCI', 'MCI-MCI', 'MCI-MCI', 'AD-AD', 'MCI-MCI', 'CN-CN',\n",
       "       'CN-CN', 'MCI-MCI', 'CN-CN', 'AD-AD', 'CN-CN', 'CN-CN', 'CN-MCI',\n",
       "       'MCI-MCI', 'MCI-MCI', 'AD-AD', 'AD-AD', 'MCI-AD', 'MCI-AD',\n",
       "       'MCI-MCI', 'MCI-MCI', 'CN-CN', 'MCI-MCI', 'CN-CN', 'MCI-MCI',\n",
       "       'MCI-AD', 'MCI-AD', 'CN-CN', 'MCI-MCI', 'CN-CN', 'MCI-AD', 'CN-CN',\n",
       "       'CN-CN', 'CN-CN', 'CN-CN', 'MCI-AD', 'CN-CN', 'MCI-AD', 'AD-AD',\n",
       "       'CN-CN', 'MCI-AD', 'AD-AD', 'MCI-AD', 'MCI-AD', 'MCI-MCI', 'CN-CN',\n",
       "       'MCI-AD', 'AD-AD', 'MCI-AD', 'AD-AD', 'CN-CN', 'AD-AD', 'MCI-MCI',\n",
       "       'AD-AD', 'MCI-AD', 'MCI-MCI', 'CN-CN', 'AD-AD', 'MCI-MCI',\n",
       "       'MCI-MCI', 'CN-CN', 'MCI-MCI', 'MCI-AD', 'AD-AD', 'MCI-MCI',\n",
       "       'CN-CN', 'AD-AD'], dtype=object)"
      ]
     },
     "execution_count": 10,
     "metadata": {},
     "output_type": "execute_result"
    }
   ],
   "source": [
    "predictions"
   ]
  },
  {
   "cell_type": "code",
   "execution_count": 11,
   "metadata": {},
   "outputs": [],
   "source": [
    "data = pd.DataFrame({\n",
    "    'RowId': np.arange(1, len(predictions) + 1), \n",
    "    'Result': predictions\n",
    "})\n",
    "\n",
    "#data.to_csv('decision_tree_predicts_maxdepth6.csv', index=False)"
   ]
  }
 ],
 "metadata": {
  "kernelspec": {
   "display_name": "myenv",
   "language": "python",
   "name": "python3"
  },
  "language_info": {
   "codemirror_mode": {
    "name": "ipython",
    "version": 3
   },
   "file_extension": ".py",
   "mimetype": "text/x-python",
   "name": "python",
   "nbconvert_exporter": "python",
   "pygments_lexer": "ipython3",
   "version": "3.12.4"
  }
 },
 "nbformat": 4,
 "nbformat_minor": 2
}
