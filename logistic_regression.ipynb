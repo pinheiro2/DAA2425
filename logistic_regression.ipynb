{
 "cells": [
  {
   "cell_type": "code",
   "execution_count": null,
   "metadata": {},
   "outputs": [],
   "source": [
    "import pandas as pd\n",
    "import numpy as np\n",
    "import matplotlib.pyplot as plt\n",
    "import seaborn as sns\n",
    "%matplotlib inline"
   ]
  },
  {
   "cell_type": "code",
   "execution_count": 10,
   "metadata": {},
   "outputs": [],
   "source": [
    "df = pd.read_csv(\"datasets/train_radiomics_hipocamp.csv\")"
   ]
  },
  {
   "cell_type": "code",
   "execution_count": 11,
   "metadata": {},
   "outputs": [
    {
     "data": {
      "text/plain": [
       "ID                                   object\n",
       "Image                                object\n",
       "Mask                                 object\n",
       "diagnostics_Versions_PyRadiomics     object\n",
       "diagnostics_Versions_Numpy           object\n",
       "                                     ...   \n",
       "lbp-3D-k_ngtdm_Contrast             float64\n",
       "lbp-3D-k_ngtdm_Strength             float64\n",
       "Sex                                   int64\n",
       "Age                                 float64\n",
       "Transition                           object\n",
       "Length: 2181, dtype: object"
      ]
     },
     "execution_count": 11,
     "metadata": {},
     "output_type": "execute_result"
    }
   ],
   "source": [
    "df.columns\n",
    "df.dtypes"
   ]
  },
  {
   "cell_type": "code",
   "execution_count": 13,
   "metadata": {},
   "outputs": [],
   "source": [
    "X = df.drop(['Transition'], axis=1)     \n",
    "y = df['Transition'].to_frame()         "
   ]
  },
  {
   "cell_type": "code",
   "execution_count": 14,
   "metadata": {},
   "outputs": [],
   "source": [
    "df_numerico = X.select_dtypes(include=[np.number])"
   ]
  },
  {
   "cell_type": "code",
   "execution_count": null,
   "metadata": {},
   "outputs": [
    {
     "ename": "NameError",
     "evalue": "name 'LinearRegression' is not defined",
     "output_type": "error",
     "traceback": [
      "\u001b[1;31m---------------------------------------------------------------------------\u001b[0m",
      "\u001b[1;31mNameError\u001b[0m                                 Traceback (most recent call last)",
      "Cell \u001b[1;32mIn[17], line 1\u001b[0m\n\u001b[1;32m----> 1\u001b[0m lm \u001b[38;5;241m=\u001b[39mLinearRegression() \n\u001b[0;32m      2\u001b[0m lm\u001b[38;5;241m.\u001b[39mfit(df_numerico, y)\n",
      "\u001b[1;31mNameError\u001b[0m: name 'LinearRegression' is not defined"
     ]
    }
   ],
   "source": [
    "from sklearn.linear_model import LinearRegression\n",
    "lm =LinearRegression() \n",
    "lm.fit(df_numerico, y)"
   ]
  },
  {
   "cell_type": "code",
   "execution_count": null,
   "metadata": {},
   "outputs": [],
   "source": [
    "X_test = pd.read_csv(\"datasets/test_radiomics_hipocamp.csv\")\n",
    "X_test = X_test.select_dtypes(include=[np.number])"
   ]
  },
  {
   "cell_type": "code",
   "execution_count": null,
   "metadata": {},
   "outputs": [],
   "source": [
    "predictions = clf.predict(X_test)"
   ]
  },
  {
   "cell_type": "code",
   "execution_count": null,
   "metadata": {},
   "outputs": [
    {
     "data": {
      "text/plain": [
       "array(['MCI-AD', 'MCI-MCI', 'CN-CN', 'CN-CN', 'MCI-MCI', 'MCI-AD',\n",
       "       'AD-AD', 'CN-CN', 'AD-AD', 'MCI-MCI', 'CN-CN', 'CN-CN', 'CN-CN',\n",
       "       'CN-CN', 'CN-CN', 'MCI-AD', 'CN-CN', 'MCI-AD', 'MCI-AD', 'MCI-AD',\n",
       "       'MCI-AD', 'MCI-MCI', 'CN-CN', 'MCI-MCI', 'MCI-MCI', 'CN-CN',\n",
       "       'AD-AD', 'CN-CN', 'CN-CN', 'CN-CN', 'CN-MCI', 'MCI-MCI', 'CN-CN',\n",
       "       'MCI-MCI', 'MCI-MCI', 'MCI-MCI', 'AD-AD', 'MCI-MCI', 'CN-CN',\n",
       "       'CN-CN', 'MCI-MCI', 'CN-CN', 'AD-AD', 'CN-CN', 'CN-CN', 'CN-MCI',\n",
       "       'MCI-MCI', 'MCI-MCI', 'AD-AD', 'AD-AD', 'MCI-AD', 'MCI-AD',\n",
       "       'MCI-MCI', 'MCI-MCI', 'CN-CN', 'MCI-MCI', 'CN-CN', 'MCI-MCI',\n",
       "       'MCI-AD', 'MCI-AD', 'CN-CN', 'MCI-MCI', 'CN-CN', 'MCI-AD', 'CN-CN',\n",
       "       'CN-CN', 'CN-CN', 'CN-CN', 'MCI-AD', 'CN-CN', 'MCI-AD', 'AD-AD',\n",
       "       'CN-CN', 'MCI-AD', 'AD-AD', 'MCI-AD', 'MCI-AD', 'MCI-MCI', 'CN-CN',\n",
       "       'MCI-AD', 'AD-AD', 'MCI-AD', 'AD-AD', 'CN-CN', 'AD-AD', 'MCI-MCI',\n",
       "       'AD-AD', 'MCI-AD', 'MCI-MCI', 'CN-CN', 'AD-AD', 'MCI-MCI',\n",
       "       'MCI-MCI', 'CN-CN', 'MCI-MCI', 'MCI-AD', 'AD-AD', 'MCI-MCI',\n",
       "       'CN-CN', 'AD-AD'], dtype=object)"
      ]
     },
     "execution_count": 24,
     "metadata": {},
     "output_type": "execute_result"
    }
   ],
   "source": [
    "predictions"
   ]
  },
  {
   "cell_type": "code",
   "execution_count": null,
   "metadata": {},
   "outputs": [],
   "source": [
    "data = pd.DataFrame({\n",
    "    'RowId': np.arange(1, len(predictions) + 1), \n",
    "    'Result': predictions\n",
    "})\n",
    "\n",
    "data.to_csv('decision_tree_regressor_predicts.csv', index=False)"
   ]
  }
 ],
 "metadata": {
  "kernelspec": {
   "display_name": "myenv",
   "language": "python",
   "name": "python3"
  },
  "language_info": {
   "codemirror_mode": {
    "name": "ipython",
    "version": 3
   },
   "file_extension": ".py",
   "mimetype": "text/x-python",
   "name": "python",
   "nbconvert_exporter": "python",
   "pygments_lexer": "ipython3",
   "version": "3.12.4"
  }
 },
 "nbformat": 4,
 "nbformat_minor": 2
}
